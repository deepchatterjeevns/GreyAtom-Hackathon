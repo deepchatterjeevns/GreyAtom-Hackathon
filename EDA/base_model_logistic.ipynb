{
 "cells": [
  {
   "cell_type": "code",
   "execution_count": 119,
   "metadata": {
    "collapsed": true
   },
   "outputs": [],
   "source": [
    "import pandas as pd\n",
    "import numpy as np\n",
    "from sklearn import preprocessing\n",
    "import matplotlib.pyplot as plt  \n",
    "import seaborn as sns"
   ]
  },
  {
   "cell_type": "code",
   "execution_count": null,
   "metadata": {
    "collapsed": true
   },
   "outputs": [],
   "source": []
  },
  {
   "cell_type": "code",
   "execution_count": 106,
   "metadata": {
    "collapsed": true
   },
   "outputs": [],
   "source": [
    "train_data = pd.read_csv('./train_set.csv')\n",
    "test_data = pd.read_csv('./test_set.csv')"
   ]
  },
  {
   "cell_type": "code",
   "execution_count": 107,
   "metadata": {
    "collapsed": true
   },
   "outputs": [],
   "source": [
    "X_test = test_data.iloc[:,0:-1]\n",
    "y_test = test_data.iloc[:,-1]\n",
    "X_train = train_data.iloc[:,0:-1]\n",
    "y_train = train_data.iloc[:,-1]"
   ]
  },
  {
   "cell_type": "code",
   "execution_count": 108,
   "metadata": {
    "collapsed": true
   },
   "outputs": [],
   "source": [
    "from sklearn.tree import DecisionTreeClassifier \n",
    "from sklearn.metrics import accuracy_score\n",
    "\n",
    "from sklearn.model_selection import train_test_split\n",
    "from sklearn.preprocessing import PolynomialFeatures\n",
    "from sklearn.pipeline import Pipeline\n",
    "from sklearn.linear_model import Ridge\n",
    "from sklearn.model_selection import GridSearchCV,cross_val_score\n",
    "from sklearn.metrics import classification_report\n",
    "from sklearn.linear_model import LogisticRegression\n",
    "\n",
    "from sklearn import linear_model"
   ]
  },
  {
   "cell_type": "code",
   "execution_count": null,
   "metadata": {
    "collapsed": true
   },
   "outputs": [],
   "source": []
  },
  {
   "cell_type": "code",
   "execution_count": 109,
   "metadata": {
    "collapsed": true
   },
   "outputs": [],
   "source": [
    "logistic_regressor = LogisticRegression()\n",
    "pipeline = Pipeline(steps=[('add_poly_features', PolynomialFeatures()),\n",
    "                           ('logistic_regression', logistic_regressor)])"
   ]
  },
  {
   "cell_type": "code",
   "execution_count": 110,
   "metadata": {},
   "outputs": [
    {
     "data": {
      "text/plain": [
       "LogisticRegression(C=1.0, class_weight=None, dual=False, fit_intercept=True,\n",
       "          intercept_scaling=1, max_iter=100, multi_class='ovr', n_jobs=1,\n",
       "          penalty='l2', random_state=None, solver='liblinear', tol=0.0001,\n",
       "          verbose=0, warm_start=False)"
      ]
     },
     "execution_count": 110,
     "metadata": {},
     "output_type": "execute_result"
    }
   ],
   "source": [
    "logistic_regressor.fit(X_train, y_train)"
   ]
  },
  {
   "cell_type": "code",
   "execution_count": 111,
   "metadata": {},
   "outputs": [
    {
     "data": {
      "text/plain": [
       "(24000, 26)"
      ]
     },
     "execution_count": 111,
     "metadata": {},
     "output_type": "execute_result"
    }
   ],
   "source": [
    "X_train.shape"
   ]
  },
  {
   "cell_type": "code",
   "execution_count": 112,
   "metadata": {},
   "outputs": [
    {
     "data": {
      "text/plain": [
       "(24000L,)"
      ]
     },
     "execution_count": 112,
     "metadata": {},
     "output_type": "execute_result"
    }
   ],
   "source": [
    "y_train.shape"
   ]
  },
  {
   "cell_type": "code",
   "execution_count": 113,
   "metadata": {
    "collapsed": true
   },
   "outputs": [],
   "source": [
    "from sklearn.metrics import precision_score\n",
    "from sklearn.metrics import roc_auc_score\n",
    "from sklearn.metrics import roc_curve"
   ]
  },
  {
   "cell_type": "code",
   "execution_count": 114,
   "metadata": {},
   "outputs": [
    {
     "name": "stdout",
     "output_type": "stream",
     "text": [
      "Accurancy- 0.776666666667\n",
      "Precision- 0.348837209302\n",
      "ROCAUC- 0.50265591218\n",
      "fpr- [  0.00000000e+00   2.13995292e-04   4.27990584e-04 ...,   9.98930024e-01\n",
      "   9.98930024e-01   1.00000000e+00]\n",
      "tpr- [ 0.          0.          0.         ...,  0.99924642  1.          1.        ]\n",
      "thresholds- [  1.98924443e+00   9.89244432e-01   9.75395990e-01 ...,   2.60068302e-09\n",
      "   1.28922767e-09   1.31657217e-30]\n"
     ]
    }
   ],
   "source": [
    "pipeline.fit(X_train, y_train)\n",
    "y_pred = pipeline.predict(X_test)\n",
    "y_pre_proba = pipeline.predict_proba(X_test)\n",
    "\n",
    "#print y_pre_proba.shape\n",
    "\n",
    "print 'Accurancy- {}'.format(accuracy_score(y_test, y_pred))\n",
    "print 'Precision- {}'.format(precision_score(y_test,y_pred))\n",
    "print 'ROCAUC- {}'.format(roc_auc_score(y_test,y_pred))\n",
    "\n",
    "#predicting probablity only for single column (yes), ROC only gets value for single class\n",
    "fpr, tpr, thresholds = roc_curve(y_test, y_pre_proba[:,1])\n",
    "print 'fpr- {}'.format(fpr)\n",
    "print 'tpr- {}'.format(tpr)\n",
    "print 'thresholds- {}'.format(thresholds)"
   ]
  },
  {
   "cell_type": "code",
   "execution_count": 115,
   "metadata": {},
   "outputs": [
    {
     "data": {
      "image/png": "[encoded data removed]",
      "text/plain": [
       "<matplotlib.figure.Figure at 0x1b6f6518>"
      ]
     },
     "metadata": {},
     "output_type": "display_data"
    }
   ],
   "source": [
    "plt.figure(figsize=(10,6))\n",
    "plt.plot(fpr, tpr)\n",
    "plt.plot([0,1],[0,1],color='red',linestyle='--')\n",
    "plt.show()"
   ]
  },
  {
   "cell_type": "code",
   "execution_count": 116,
   "metadata": {},
   "outputs": [],
   "source": [
    "# Fitting bagging classifier with Logisitc Regression\n",
    "from sklearn.ensemble import BaggingClassifier\n",
    "\n",
    "bagging_clf1 = BaggingClassifier(LogisticRegression(), n_estimators=100, max_samples=100, \n",
    "                                bootstrap=True, random_state=9)\n",
    "\n",
    "bagging_clf1.fit(X_train, y_train)\n",
    "y_pred_bagging = bagging_clf1.predict(X_test)\n",
    "score_bc_lr = accuracy_score(y_test, y_pred_bagging)"
   ]
  },
  {
   "cell_type": "code",
   "execution_count": 117,
   "metadata": {},
   "outputs": [
    {
     "name": "stdout",
     "output_type": "stream",
     "text": [
      "bagging classifier (logistic regression) accuracy 0.7795\n"
     ]
    }
   ],
   "source": [
    "print \"bagging classifier (logistic regression) accuracy %.4f\" %(score_bc_lr)"
   ]
  },
  {
   "cell_type": "code",
   "execution_count": 118,
   "metadata": {},
   "outputs": [
    {
     "name": "stderr",
     "output_type": "stream",
     "text": [
      "C:\\Users\\YURAJ\\Anaconda2\\lib\\site-packages\\sklearn\\linear_model\\stochastic_gradient.py:128: FutureWarning: max_iter and tol parameters have been added in <class 'sklearn.linear_model.stochastic_gradient.SGDClassifier'> in 0.19. If both are left unset, they default to max_iter=5 and tol=None. If tol is not None, max_iter defaults to max_iter=1000. From 0.21, default max_iter will be 1000, and default tol will be 1e-3.\n",
      "  \"and default tol will be 1e-3.\" % type(self), FutureWarning)\n"
     ]
    },
    {
     "data": {
      "text/plain": [
       "SGDClassifier(alpha=0.0001, average=False, class_weight=None, epsilon=0.1,\n",
       "       eta0=0.0, fit_intercept=True, l1_ratio=0.15,\n",
       "       learning_rate='optimal', loss='log', max_iter=None, n_iter=None,\n",
       "       n_jobs=1, penalty='elasticnet', power_t=0.5, random_state=None,\n",
       "       shuffle=True, tol=None, verbose=0, warm_start=False)"
      ]
     },
     "execution_count": 118,
     "metadata": {},
     "output_type": "execute_result"
    }
   ],
   "source": [
    "# regularized logistic regression\n",
    "lg_reg_clf = linear_model.SGDClassifier(loss='log',penalty='elasticnet')\n",
    "lg_reg_clf.fit(X_train, y_train)\n"
   ]
  },
  {
   "cell_type": "code",
   "execution_count": 121,
   "metadata": {},
   "outputs": [
    {
     "name": "stdout",
     "output_type": "stream",
     "text": [
      "Accurancy- 0.222333333333\n",
      "Precision- 0.221238938053\n",
      "ROCAUC- 0.500209399312\n",
      "fpr- [ 0.          0.99807404  1.        ]\n",
      "tpr- [ 0.          0.99849284  1.        ]\n",
      "thresholds- [ 2.  1.  0.]\n"
     ]
    }
   ],
   "source": [
    "y_pred_lg_reg = lg_reg_clf.predict(X_test)\n",
    "y_pred_prob_lg_reg = lg_reg_clf.predict_proba(X_test)\n",
    "\n",
    "#print y_pre_proba.shape\n",
    "\n",
    "print 'Accurancy- {}'.format(accuracy_score(y_test, y_pred_lg_reg))\n",
    "print 'Precision- {}'.format(precision_score(y_test,y_pred_lg_reg))\n",
    "print 'ROCAUC- {}'.format(roc_auc_score(y_test,y_pred_lg_reg))\n",
    "\n",
    "fpr, tpr, thresholds = roc_curve(y_test, y_pred_prob_lg_reg[:,1])\n",
    "print 'fpr- {}'.format(fpr)\n",
    "print 'tpr- {}'.format(tpr)\n",
    "print 'thresholds- {}'.format(thresholds)"
   ]
  }
 ],
 "metadata": {
  "kernelspec": {
   "display_name": "Python 2",
   "language": "python",
   "name": "python2"
  },
  "language_info": {
   "codemirror_mode": {
    "name": "ipython",
    "version": 2
   },
   "file_extension": ".py",
   "mimetype": "text/x-python",
   "name": "python",
   "nbconvert_exporter": "python",
   "pygments_lexer": "ipython2",
   "version": "2.7.14"
  }
 },
 "nbformat": 4,
 "nbformat_minor": 2
}
