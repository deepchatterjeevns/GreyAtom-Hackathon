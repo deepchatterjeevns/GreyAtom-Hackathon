{
 "cells": [
  {
   "cell_type": "markdown",
   "metadata": {
    "slideshow": {
     "slide_type": "slide"
    }
   },
   "source": [
    "# team `misfits`\n",
    "\n",
    "## ML Model to detect probability of Credit Card Default\n",
    "\n",
    "<img src=\"Surviving-a-Credit-Card-Default.png\" alt=\"Python\" style=\"width: 500px;\"align = \"middle\"/>\n",
    "***\n",
    "Team Members\n",
    "\n",
    "Abhinav Anand | Rajesh Upadhyay | Yuvraj Kale | Sandip Baradiya | Saiprasad Balasubramanian"
   ]
  },
  {
   "cell_type": "markdown",
   "metadata": {
    "slideshow": {
     "slide_type": "slide"
    }
   },
   "source": [
    "Problem Statement:\n",
    "===================\n",
    "\n",
    "Build a model to compute probability of default for Taiwanese Credit Card Clients\n",
    "\n",
    "Dataset: [Link](https://archive.ics.uci.edu/ml/datasets/default+of+credit+card+clients)\t\n",
    "\n",
    "Credits: I-Cheng Yeh, Department of Information Management, Chung Hua University, Taiwan"
   ]
  },
  {
   "cell_type": "code",
   "execution_count": null,
   "metadata": {
    "collapsed": true
   },
   "outputs": [],
   "source": []
  },
  {
   "cell_type": "markdown",
   "metadata": {
    "slideshow": {
     "slide_type": "slide"
    }
   },
   "source": [
    "Journey of simple set of data to a full fledged model:\n",
    "===================\n",
    "\n",
    "- Simple Exploration: Understanding the Data Dictionary\n",
    "- Exploratory Data Analysis\n",
    "- Cleaning the Data\n",
    "    - Data Summary\n",
    "    - Detecting Outliers && Missing Values\n",
    "    - Defaulter Cross Tab Analysis\n",
    "    - Data Imbalance\n",
    "    - Data Transformation && Preprocessing\n",
    "    - Data Normalization\n"
   ]
  },
  {
   "cell_type": "markdown",
   "metadata": {},
   "source": [
    "<img src=\"gr.jpg\" alt=\"Python\" style=\"width: 500px;\" align = \"middle\"/>\n"
   ]
  },
  {
   "cell_type": "markdown",
   "metadata": {},
   "source": [
    "## Data Cleaning\n",
    "\n",
    "<img src=\"cleaning.jpeg\" alt=\"Python\" style=\"width: 800px; height:500px\" align = \"middle\"/>\n"
   ]
  },
  {
   "cell_type": "markdown",
   "metadata": {},
   "source": [
    "Journey Continues (ML isn't that easy!)\n",
    "===================\n",
    "- Feature Engineering && PCA\n",
    "- Test / Train Split using Stratified Sampling\n",
    "- Baseline Model\n",
    "...\n",
    "...\n",
    "- You know what happens ahead!"
   ]
  },
  {
   "cell_type": "markdown",
   "metadata": {
    "slideshow": {
     "slide_type": "slide"
    }
   },
   "source": []
  },
  {
   "cell_type": "code",
   "execution_count": null,
   "metadata": {
    "collapsed": true
   },
   "outputs": [],
   "source": []
  },
  {
   "cell_type": "markdown",
   "metadata": {},
   "source": [
    "<img src=\"gr.jpg\" alt=\"Python\" style=\"width: 500px;\" align = \"middle\"/>\n"
   ]
  },
  {
   "cell_type": "markdown",
   "metadata": {
    "slideshow": {
     "slide_type": "slide"
    }
   },
   "source": [
    "<img src=\"barney.jpeg\" alt=\"Python\" style=\"width: 500px;\" align = \"middle\"/>\n"
   ]
  },
  {
   "cell_type": "markdown",
   "metadata": {},
   "source": [
    "<img src=\"cat.jpeg\" alt=\"Python\" style=\"width: 800px; height: 500px\" align = \"middle\"/>\n"
   ]
  },
  {
   "cell_type": "markdown",
   "metadata": {
    "slideshow": {
     "slide_type": "slide"
    }
   },
   "source": [
    "<img src=\"jesus.jpeg\" alt=\"Python\" style=\"width: 800px; height: 500px\" align = \"middle\"/>\n"
   ]
  },
  {
   "cell_type": "markdown",
   "metadata": {
    "slideshow": {
     "slide_type": "slide"
    }
   },
   "source": [
    "- Main Image - bankbazaar.com\n",
    "- Logistic Regularization Model -\n",
    "http://kldavenport.com/regularized-logistic-regression-intuition/\n",
    "- Paper - https://bradzzz.gitbooks.io/ga-seattle-dsi/content/dsi/dsi_05_classification_databases/2.1-lesson/assets/datasets/DefaultCreditCardClients_yeh_2009.pdf\n",
    "- YT - https://www.youtube.com/watch?v=TmpEbL7j5Jw\n",
    "- "
   ]
  },
  {
   "cell_type": "code",
   "execution_count": null,
   "metadata": {
    "collapsed": true
   },
   "outputs": [],
   "source": []
  }
 ],
 "metadata": {
  "celltoolbar": "Slideshow",
  "kernelspec": {
   "display_name": "Python 2",
   "language": "python",
   "name": "python2"
  },
  "language_info": {
   "codemirror_mode": {
    "name": "ipython",
    "version": 2
   },
   "file_extension": ".py",
   "mimetype": "text/x-python",
   "name": "python",
   "nbconvert_exporter": "python",
   "pygments_lexer": "ipython2",
   "version": "2.7.13"
  }
 },
 "nbformat": 4,
 "nbformat_minor": 2
}
