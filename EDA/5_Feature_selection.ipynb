{
 "cells": [
  {
   "cell_type": "code",
   "execution_count": 1,
   "metadata": {
    "collapsed": true
   },
   "outputs": [],
   "source": [
    "import pandas as pd\n",
    "import numpy as np\n",
    "import matplotlib.pyplot as plt\n",
    "%matplotlib inline\n",
    "import seaborn as sns\n",
    "\n",
    "from sklearn.datasets import make_classification\n",
    "from sklearn.ensemble import ExtraTreesClassifier\n",
    "from sklearn.datasets import load_boston\n",
    "from sklearn.ensemble import RandomForestRegressor\n"
   ]
  },
  {
   "cell_type": "code",
   "execution_count": 2,
   "metadata": {},
   "outputs": [
    {
     "data": {
      "text/html": [
       "<div>\n",
       "<style>\n",
       "    .dataframe thead tr:only-child th {\n",
       "        text-align: right;\n",
       "    }\n",
       "\n",
       "    .dataframe thead th {\n",
       "        text-align: left;\n",
       "    }\n",
       "\n",
       "    .dataframe tbody tr th {\n",
       "        vertical-align: top;\n",
       "    }\n",
       "</style>\n",
       "<table border=\"1\" class=\"dataframe\">\n",
       "  <thead>\n",
       "    <tr style=\"text-align: right;\">\n",
       "      <th></th>\n",
       "      <th>Unnamed: 0</th>\n",
       "      <th>Unnamed: 0.1</th>\n",
       "      <th>id</th>\n",
       "      <th>limit_bal</th>\n",
       "      <th>sex</th>\n",
       "      <th>education</th>\n",
       "      <th>marriage</th>\n",
       "      <th>age</th>\n",
       "      <th>pay_september</th>\n",
       "      <th>pay_august</th>\n",
       "      <th>...</th>\n",
       "      <th>bill_june</th>\n",
       "      <th>bill_may</th>\n",
       "      <th>bill_april</th>\n",
       "      <th>pay_amt_september</th>\n",
       "      <th>pay_amt_august</th>\n",
       "      <th>pay_amt_july</th>\n",
       "      <th>pay_amt_june</th>\n",
       "      <th>pay_amt_may</th>\n",
       "      <th>pay_amt_april</th>\n",
       "      <th>default</th>\n",
       "    </tr>\n",
       "  </thead>\n",
       "  <tbody>\n",
       "    <tr>\n",
       "      <th>0</th>\n",
       "      <td>22788</td>\n",
       "      <td>22790</td>\n",
       "      <td>22789</td>\n",
       "      <td>160000</td>\n",
       "      <td>2</td>\n",
       "      <td>2</td>\n",
       "      <td>2</td>\n",
       "      <td>33</td>\n",
       "      <td>2</td>\n",
       "      <td>2</td>\n",
       "      <td>...</td>\n",
       "      <td>164310</td>\n",
       "      <td>162681</td>\n",
       "      <td>163005</td>\n",
       "      <td>15000</td>\n",
       "      <td>0</td>\n",
       "      <td>0</td>\n",
       "      <td>6100</td>\n",
       "      <td>12300</td>\n",
       "      <td>6100</td>\n",
       "      <td>0</td>\n",
       "    </tr>\n",
       "    <tr>\n",
       "      <th>1</th>\n",
       "      <td>29006</td>\n",
       "      <td>29008</td>\n",
       "      <td>29007</td>\n",
       "      <td>150000</td>\n",
       "      <td>2</td>\n",
       "      <td>1</td>\n",
       "      <td>2</td>\n",
       "      <td>34</td>\n",
       "      <td>1</td>\n",
       "      <td>-1</td>\n",
       "      <td>...</td>\n",
       "      <td>0</td>\n",
       "      <td>0</td>\n",
       "      <td>0</td>\n",
       "      <td>53</td>\n",
       "      <td>0</td>\n",
       "      <td>0</td>\n",
       "      <td>0</td>\n",
       "      <td>0</td>\n",
       "      <td>0</td>\n",
       "      <td>0</td>\n",
       "    </tr>\n",
       "    <tr>\n",
       "      <th>2</th>\n",
       "      <td>16950</td>\n",
       "      <td>16952</td>\n",
       "      <td>16951</td>\n",
       "      <td>10000</td>\n",
       "      <td>1</td>\n",
       "      <td>2</td>\n",
       "      <td>1</td>\n",
       "      <td>50</td>\n",
       "      <td>1</td>\n",
       "      <td>2</td>\n",
       "      <td>...</td>\n",
       "      <td>8067</td>\n",
       "      <td>8227</td>\n",
       "      <td>8400</td>\n",
       "      <td>2</td>\n",
       "      <td>1281</td>\n",
       "      <td>1134</td>\n",
       "      <td>294</td>\n",
       "      <td>305</td>\n",
       "      <td>1000</td>\n",
       "      <td>0</td>\n",
       "    </tr>\n",
       "    <tr>\n",
       "      <th>3</th>\n",
       "      <td>22280</td>\n",
       "      <td>22282</td>\n",
       "      <td>22281</td>\n",
       "      <td>220000</td>\n",
       "      <td>2</td>\n",
       "      <td>1</td>\n",
       "      <td>2</td>\n",
       "      <td>29</td>\n",
       "      <td>0</td>\n",
       "      <td>0</td>\n",
       "      <td>...</td>\n",
       "      <td>218513</td>\n",
       "      <td>131660</td>\n",
       "      <td>134346</td>\n",
       "      <td>9100</td>\n",
       "      <td>9000</td>\n",
       "      <td>7887</td>\n",
       "      <td>4800</td>\n",
       "      <td>4900</td>\n",
       "      <td>6000</td>\n",
       "      <td>1</td>\n",
       "    </tr>\n",
       "    <tr>\n",
       "      <th>4</th>\n",
       "      <td>11346</td>\n",
       "      <td>11348</td>\n",
       "      <td>11347</td>\n",
       "      <td>310000</td>\n",
       "      <td>2</td>\n",
       "      <td>1</td>\n",
       "      <td>2</td>\n",
       "      <td>32</td>\n",
       "      <td>1</td>\n",
       "      <td>-2</td>\n",
       "      <td>...</td>\n",
       "      <td>326</td>\n",
       "      <td>-235</td>\n",
       "      <td>-235</td>\n",
       "      <td>0</td>\n",
       "      <td>326</td>\n",
       "      <td>0</td>\n",
       "      <td>0</td>\n",
       "      <td>0</td>\n",
       "      <td>1200</td>\n",
       "      <td>0</td>\n",
       "    </tr>\n",
       "  </tbody>\n",
       "</table>\n",
       "<p>5 rows × 27 columns</p>\n",
       "</div>"
      ],
      "text/plain": [
       "   Unnamed: 0  Unnamed: 0.1     id  limit_bal  sex  education  marriage  age  \\\n",
       "0       22788         22790  22789     160000    2          2         2   33   \n",
       "1       29006         29008  29007     150000    2          1         2   34   \n",
       "2       16950         16952  16951      10000    1          2         1   50   \n",
       "3       22280         22282  22281     220000    2          1         2   29   \n",
       "4       11346         11348  11347     310000    2          1         2   32   \n",
       "\n",
       "   pay_september  pay_august   ...     bill_june  bill_may  bill_april  \\\n",
       "0              2           2   ...        164310    162681      163005   \n",
       "1              1          -1   ...             0         0           0   \n",
       "2              1           2   ...          8067      8227        8400   \n",
       "3              0           0   ...        218513    131660      134346   \n",
       "4              1          -2   ...           326      -235        -235   \n",
       "\n",
       "   pay_amt_september  pay_amt_august  pay_amt_july  pay_amt_june  pay_amt_may  \\\n",
       "0              15000               0             0          6100        12300   \n",
       "1                 53               0             0             0            0   \n",
       "2                  2            1281          1134           294          305   \n",
       "3               9100            9000          7887          4800         4900   \n",
       "4                  0             326             0             0            0   \n",
       "\n",
       "   pay_amt_april  default  \n",
       "0           6100        0  \n",
       "1              0        0  \n",
       "2           1000        0  \n",
       "3           6000        1  \n",
       "4           1200        0  \n",
       "\n",
       "[5 rows x 27 columns]"
      ]
     },
     "execution_count": 2,
     "metadata": {},
     "output_type": "execute_result"
    }
   ],
   "source": [
    "#import data Train set\n",
    "data = pd.read_csv('../train_set.csv')\n",
    "data.head()"
   ]
  },
  {
   "cell_type": "code",
   "execution_count": 3,
   "metadata": {},
   "outputs": [
    {
     "name": "stdout",
     "output_type": "stream",
     "text": [
      "<class 'pandas.core.frame.DataFrame'>\n",
      "RangeIndex: 24000 entries, 0 to 23999\n",
      "Data columns (total 27 columns):\n",
      "Unnamed: 0           24000 non-null int64\n",
      "Unnamed: 0.1         24000 non-null int64\n",
      "id                   24000 non-null int64\n",
      "limit_bal            24000 non-null int64\n",
      "sex                  24000 non-null int64\n",
      "education            24000 non-null int64\n",
      "marriage             24000 non-null int64\n",
      "age                  24000 non-null int64\n",
      "pay_september        24000 non-null int64\n",
      "pay_august           24000 non-null int64\n",
      "pay_july             24000 non-null int64\n",
      "pay_june             24000 non-null int64\n",
      "pay_may              24000 non-null int64\n",
      "pay_april            24000 non-null int64\n",
      "bill_september       24000 non-null int64\n",
      "bill_august          24000 non-null int64\n",
      "bill_july            24000 non-null int64\n",
      "bill_june            24000 non-null int64\n",
      "bill_may             24000 non-null int64\n",
      "bill_april           24000 non-null int64\n",
      "pay_amt_september    24000 non-null int64\n",
      "pay_amt_august       24000 non-null int64\n",
      "pay_amt_july         24000 non-null int64\n",
      "pay_amt_june         24000 non-null int64\n",
      "pay_amt_may          24000 non-null int64\n",
      "pay_amt_april        24000 non-null int64\n",
      "default              24000 non-null int64\n",
      "dtypes: int64(27)\n",
      "memory usage: 4.9 MB\n"
     ]
    }
   ],
   "source": [
    "# train data set summery\n",
    "data.info()"
   ]
  },
  {
   "cell_type": "code",
   "execution_count": 4,
   "metadata": {
    "collapsed": true
   },
   "outputs": [],
   "source": [
    "# variable standrization in X & Y terms.......\n",
    "x = data.iloc[:,3:-1]\n",
    "y = data['default']"
   ]
  },
  {
   "cell_type": "code",
   "execution_count": 5,
   "metadata": {
    "collapsed": true
   },
   "outputs": [],
   "source": [
    "# numerical variables for corr\n",
    "x_for_cor = x[['limit_bal','age','pay_september','pay_august','pay_july','pay_june','pay_may','pay_april','bill_september','bill_august','bill_july','bill_june','bill_may','bill_april','pay_amt_september','pay_amt_august','pay_amt_july','pay_amt_june','pay_amt_may','pay_amt_april']]"
   ]
  },
  {
   "cell_type": "code",
   "execution_count": 6,
   "metadata": {},
   "outputs": [
    {
     "data": {
      "text/plain": [
       "<matplotlib.axes._subplots.AxesSubplot at 0x7f820b4afe10>"
      ]
     },
     "execution_count": 6,
     "metadata": {},
     "output_type": "execute_result"
    },
    {
     "data": {
      "image/png": "[encoded data removed]",
      "text/plain": [
       "<matplotlib.figure.Figure at 0x7f823c4d1a10>"
      ]
     },
     "metadata": {},
     "output_type": "display_data"
    }
   ],
   "source": [
    "# correlation heat map \n",
    "sns.heatmap(x_for_cor.corr(), cmap='viridis')"
   ]
  },
  {
   "cell_type": "code",
   "execution_count": null,
   "metadata": {},
   "outputs": [
    {
     "name": "stdout",
     "output_type": "stream",
     "text": [
      "Features sorted by their score: \n",
      "\n",
      "[(0.1593, 'pay_september'), (0.0728, 'age'), (0.065, 'bill_september'), (0.0602, 'limit_bal'), (0.0561, 'pay_amt_july'), (0.0539, 'pay_amt_august'), (0.0529, 'pay_amt_april'), (0.0494, 'pay_amt_september'), (0.0465, 'bill_april'), (0.0457, 'bill_august'), (0.0444, 'pay_amt_june'), (0.0436, 'bill_june'), (0.0421, 'pay_amt_may'), (0.0419, 'bill_may'), (0.0419, 'bill_july'), (0.0359, 'pay_august'), (0.0206, 'education'), (0.0128, 'marriage'), (0.0127, 'sex'), (0.0111, 'pay_april'), (0.0109, 'pay_june'), (0.0106, 'pay_may'), (0.0098, 'pay_july')]\n"
     ]
    }
   ],
   "source": [
    "# Var ranking throuh Random Forest.........\n",
    "names = data[['limit_bal','sex' ,'education','marriage','age','pay_september','pay_august','pay_july','pay_june','pay_may','pay_april','bill_september','bill_august','bill_july','bill_june','bill_may','bill_april','pay_amt_september','pay_amt_august','pay_amt_july','pay_amt_june','pay_amt_may','pay_amt_april']]\n",
    "rf = RandomForestRegressor()\n",
    "rf.fit(x, y)\n",
    "print (\"Features sorted by their score: \\n\")\n",
    "print sorted(zip(map(lambda x: round(x, 4), rf.feature_importances_),names), reverse=True)"
   ]
  },
  {
   "cell_type": "code",
   "execution_count": null,
   "metadata": {
    "collapsed": true
   },
   "outputs": [],
   "source": [
    "#np.corrcoef(x_for_cor)\n",
    "np.corrcoef(x_for_cor)"
   ]
  },
  {
   "cell_type": "code",
   "execution_count": null,
   "metadata": {},
   "outputs": [],
   "source": [
    "#correlation matrix\n",
    "x_for_cor.corr()"
   ]
  },
  {
   "cell_type": "code",
   "execution_count": null,
   "metadata": {
    "collapsed": true
   },
   "outputs": [],
   "source": [
    "                                "
   ]
  }
 ],
 "metadata": {
  "kernelspec": {
   "display_name": "Python 2",
   "language": "python",
   "name": "python2"
  },
  "language_info": {
   "codemirror_mode": {
    "name": "ipython",
    "version": 2
   },
   "file_extension": ".py",
   "mimetype": "text/x-python",
   "name": "python",
   "nbconvert_exporter": "python",
   "pygments_lexer": "ipython2",
   "version": "2.7.13"
  }
 },
 "nbformat": 4,
 "nbformat_minor": 2
}
