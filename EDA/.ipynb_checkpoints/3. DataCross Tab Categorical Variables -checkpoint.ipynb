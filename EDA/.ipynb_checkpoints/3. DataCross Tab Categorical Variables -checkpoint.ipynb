{
 "cells": [
  {
   "cell_type": "code",
   "execution_count": 1,
   "metadata": {
    "collapsed": true
   },
   "outputs": [],
   "source": [
    "import numpy as np\n",
    "import pandas as pd\n",
    "import matplotlib.pyplot as plt"
   ]
  },
  {
   "cell_type": "code",
   "execution_count": 3,
   "metadata": {},
   "outputs": [],
   "source": [
    "df = pd.read_csv('../arranged_data.csv')"
   ]
  },
  {
   "cell_type": "code",
   "execution_count": 39,
   "metadata": {},
   "outputs": [
    {
     "name": "stdout",
     "output_type": "stream",
     "text": [
      "   marriage  default\n",
      "0         1        1\n",
      "1         2        1\n",
      "2         2        0\n",
      "3         1        0\n",
      "4         1        0\n",
      "\n",
      "\n",
      "************\n",
      "Correlation between Marriage & default\n",
      "          marriage   default\n",
      "marriage  1.000000 -0.024339\n",
      "default  -0.024339  1.000000\n",
      "************\n",
      "\n",
      "\n",
      "Crosstab between Marriage & default\n",
      "marriage   0      1      2    3\n",
      "default                        \n",
      "0         49  10453  12623  239\n",
      "1          5   3206   3341   84\n"
     ]
    }
   ],
   "source": [
    "'''\n",
    "Finding out significance of marriage in default and correlation between marraige & default rate\n",
    "'''\n",
    "\n",
    "marriage_default = df[['marriage', 'default']]\n",
    "\n",
    "print (marriage_default.head())\n",
    "\n",
    "print ('')\n",
    "print ('')\n",
    "\n",
    "print ('************')\n",
    "print ('Correlation between Marriage & default')\n",
    "print (marriage_default.corr())\n",
    "print ('************')\n",
    "\n",
    "print ('')\n",
    "print ('')\n",
    "print ('Crosstab between Marriage & default')\n",
    "marriage_cross_tab = pd.crosstab(marriage_default['default'], marriage_default['marriage'])\n",
    "print marriage_cross_tab"
   ]
  },
  {
   "cell_type": "code",
   "execution_count": 38,
   "metadata": {},
   "outputs": [
    {
     "data": {
      "image/png": "[encoded data removed]",
      "text/plain": [
       "<matplotlib.figure.Figure at 0x11959e9d0>"
      ]
     },
     "metadata": {},
     "output_type": "display_data"
    }
   ],
   "source": [
    "marriage_cross_tab.plot(kind='bar', stacked=True)\n",
    "plt.show()"
   ]
  },
  {
   "cell_type": "code",
   "execution_count": null,
   "metadata": {
    "collapsed": true
   },
   "outputs": [],
   "source": []
  }
 ],
 "metadata": {
  "kernelspec": {
   "display_name": "Python 2",
   "language": "python",
   "name": "python2"
  },
  "language_info": {
   "codemirror_mode": {
    "name": "ipython",
    "version": 2
   },
   "file_extension": ".py",
   "mimetype": "text/x-python",
   "name": "python",
   "nbconvert_exporter": "python",
   "pygments_lexer": "ipython2",
   "version": "2.7.13"
  }
 },
 "nbformat": 4,
 "nbformat_minor": 2
}
